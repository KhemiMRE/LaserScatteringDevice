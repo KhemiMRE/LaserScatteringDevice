{
 "cells": [
  {
   "cell_type": "markdown",
   "id": "b8c7cd39",
   "metadata": {},
   "source": [
    "# Lock-in: Control y adquisición de señales"
   ]
  },
  {
   "cell_type": "code",
   "execution_count": 1,
   "id": "35d7a687",
   "metadata": {},
   "outputs": [],
   "source": [
    "# Generación de gráficas y .csv \n",
    "# Datos de referencia: fase, frecuencia y amplitud\n",
    "# Datos de ganacia y constante de tiempo: sensibilidad y constante de tiempo\n",
    "# Datos de display y output: Elección de canal (CH1), Display: R / CH2: Theta"
   ]
  },
  {
   "cell_type": "code",
   "execution_count": 1,
   "id": "b44a53fa",
   "metadata": {},
   "outputs": [],
   "source": [
    "import pyvisa\n",
    "import time\n",
    "import numpy as np\n",
    "import csv"
   ]
  },
  {
   "cell_type": "code",
   "execution_count": 2,
   "id": "397761a0",
   "metadata": {},
   "outputs": [],
   "source": [
    "def adquirir(q):\n",
    "    lockin.write(q)\n",
    "    data=''\n",
    "    try:\n",
    "        while True:\n",
    "            b=lockin.read_bytes(1)\n",
    "            data=data+str(b)\n",
    "    except:\n",
    "       # print('Lectura terminada')\n",
    "        pass\n",
    "    data=data.replace('b','')\n",
    "    data=data.replace('\\'','')\n",
    "    data=data.replace(r'\\r','')\n",
    "    data=float(data)\n",
    "    return data"
   ]
  },
  {
   "cell_type": "code",
   "execution_count": 4,
   "id": "bdc93de5",
   "metadata": {},
   "outputs": [
    {
     "name": "stdout",
     "output_type": "stream",
     "text": [
      "('ASRL1::INSTR',)\n"
     ]
    }
   ],
   "source": [
    "rm = pyvisa.ResourceManager()\n",
    "print(rm.list_resources())\n",
    "lockin = rm.open_resource('ASRL1::INSTR', timeout=100)"
   ]
  },
  {
   "cell_type": "markdown",
   "id": "4198e12f",
   "metadata": {},
   "source": [
    "Datos de entrada"
   ]
  },
  {
   "cell_type": "code",
   "execution_count": 5,
   "id": "3f44f7cc",
   "metadata": {},
   "outputs": [
    {
     "data": {
      "text/plain": [
       "9"
      ]
     },
     "execution_count": 5,
     "metadata": {},
     "output_type": "execute_result"
    }
   ],
   "source": [
    "n = 5\n",
    "tiempo_estabilizacion=50\n",
    "n_barridos = 1\n",
    "lista_freq = [0.1, 0.2, 0.5, 1, 2, 5, 10,20,50, 100, 200, 500, 1000, 2000, 5000, 10000, 20000, 50000, 100000]\n",
    "# Ajustar Fase de Referencia\n",
    "lockin.write(\"PHAS {}\".format(0))\n",
    "time.sleep(0.2)\n",
    "# Ajustar Amplitud de Referencia\n",
    "lockin.write(\"SLVL {}\".format(4.95))\n",
    "time.sleep(1)\n",
    "# Ajustar Constante de tiempo a 1 s\n",
    "lockin.write(\"OELT {}\".format(10))\n",
    "time.sleep(1)\n",
    "# Ajustar Sensibilidad a 50 mV/nA\n",
    "lockin.write(\"SENS {}\".format(22))"
   ]
  },
  {
   "cell_type": "markdown",
   "id": "bad4c987",
   "metadata": {},
   "source": [
    "Realizar n barridos de captura de datos"
   ]
  },
  {
   "cell_type": "code",
   "execution_count": null,
   "id": "30a90f77",
   "metadata": {},
   "outputs": [],
   "source": [
    "for barrido in range(n_barridos+1)"
   ]
  },
  {
   "cell_type": "markdown",
   "id": "5edeff1c",
   "metadata": {},
   "source": [
    "Para cada frecuencia, tomar n muestras"
   ]
  },
  {
   "cell_type": "code",
   "execution_count": 20,
   "id": "1c74e30f",
   "metadata": {},
   "outputs": [],
   "source": [
    "# para cada frecuencia en la lista de frecuencias\n",
    "tabla_muestras=[]\n",
    "for freq in lista_freq:\n",
    "    #Ajustar frecuencia de referencia\n",
    "    lockin.write(\"FREQ {}\".format(freq))\n",
    "    time.sleep(tiempo_estabilizacion)\n",
    "    lista_muestras=[]\n",
    "    lista_muestras.append(freq)\n",
    "    # repetir n veces\n",
    "    for i in range(n):\n",
    "        # adquirir muestra y asignarlo en R y theta\n",
    "        R = adquirir ('OUTP? 3')\n",
    "        # print('R: ' + str(R))\n",
    "        time.sleep(1)\n",
    "        lista_muestras.append(R)\n",
    "        theta = adquirir ('OUTP? 4')\n",
    "        # print('Theta: ' + str(theta))\n",
    "        time.sleep(1)\n",
    "        lista_muestras.append(theta)\n",
    "    tabla_muestras.append(lista_muestras)        \n",
    "with open(\"835-2_.csv\", \"w\", newline='') as f:\n",
    "    writer = csv.writer(f)\n",
    "    writer.writerows(tabla_muestras)\n",
    "        "
   ]
  },
  {
   "cell_type": "code",
   "execution_count": 45,
   "id": "9bb74145",
   "metadata": {},
   "outputs": [],
   "source": [
    "import os"
   ]
  },
  {
   "cell_type": "code",
   "execution_count": 46,
   "id": "1a67dfae",
   "metadata": {},
   "outputs": [
    {
     "data": {
      "text/plain": [
       "'C:\\\\Users\\\\khemi\\\\Lock-in Control\\\\SR830_LockInAmplifier'"
      ]
     },
     "execution_count": 46,
     "metadata": {},
     "output_type": "execute_result"
    }
   ],
   "source": [
    "os.getcwd()"
   ]
  }
 ],
 "metadata": {
  "kernelspec": {
   "display_name": "Python 3",
   "language": "python",
   "name": "python3"
  },
  "language_info": {
   "codemirror_mode": {
    "name": "ipython",
    "version": 3
   },
   "file_extension": ".py",
   "mimetype": "text/x-python",
   "name": "python",
   "nbconvert_exporter": "python",
   "pygments_lexer": "ipython3",
   "version": "3.7.10"
  }
 },
 "nbformat": 4,
 "nbformat_minor": 5
}
